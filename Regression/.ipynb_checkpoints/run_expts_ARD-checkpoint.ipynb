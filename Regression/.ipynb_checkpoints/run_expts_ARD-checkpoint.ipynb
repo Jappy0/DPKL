{
 "cells": [
  {
   "cell_type": "code",
   "execution_count": 1,
   "metadata": {},
   "outputs": [
    {
     "name": "stdout",
     "output_type": "stream",
     "text": [
      "No GPU found\n"
     ]
    }
   ],
   "source": [
    "import numpy as np\n",
    "import json\n",
    "import time\n",
    "from ARD import ARD\n",
    "from utils import data_splitter\n",
    "from computations import get_covg\n",
    "from scipy.io import loadmat"
   ]
  },
  {
   "cell_type": "code",
   "execution_count": 2,
   "metadata": {},
   "outputs": [],
   "source": [
    "#Model Hyperparameters (change as necessary)\n",
    "with open('params.json', 'r') as f:\n",
    "    hp_dict = json.load(f)"
   ]
  },
  {
   "cell_type": "code",
   "execution_count": 3,
   "metadata": {},
   "outputs": [
    {
     "data": {
      "text/plain": [
       "{'GP_reg': 1.0,\n",
       " 'SS_reg': 1.0,\n",
       " 'latent_dim': 2,\n",
       " 'lr': 0.001,\n",
       " 'num_iters': 50,\n",
       " 'num_samples': 10}"
      ]
     },
     "execution_count": 3,
     "metadata": {},
     "output_type": "execute_result"
    }
   ],
   "source": [
    "hp_dict"
   ]
  },
  {
   "cell_type": "code",
   "execution_count": 4,
   "metadata": {},
   "outputs": [],
   "source": [
    "#Experiment Hyperparamters (change as necessary)\n",
    "datapath = '../../../../ssdkl_uci_data/'\n",
    "datasets = ['ctslice']\n",
    "num_trials = 1\n",
    "num_test = 1000\n",
    "num_lab_list = [50, 100, 200, 300, 400, 500]\n",
    "ss_flag = False #True for semi-supervised"
   ]
  },
  {
   "cell_type": "code",
   "execution_count": 5,
   "metadata": {},
   "outputs": [],
   "source": [
    "rmse_mean = np.zeros((len(num_lab_list),len(datasets)))\n",
    "rmse_std = np.zeros((len(num_lab_list),len(datasets)))\n",
    "negll_mean = np.zeros((len(num_lab_list),len(datasets)))\n",
    "negll_std = np.zeros((len(num_lab_list),len(datasets)))"
   ]
  },
  {
   "cell_type": "code",
   "execution_count": 6,
   "metadata": {},
   "outputs": [],
   "source": [
    "#Fixing RNG seed for fair comparison\n",
    "np.random.seed(0)"
   ]
  },
  {
   "cell_type": "code",
   "execution_count": 7,
   "metadata": {},
   "outputs": [
    {
     "name": "stdout",
     "output_type": "stream",
     "text": [
      "ctslice\n",
      "Trial = 0\n",
      "n = 50 RMSE mean = 15.890772819519043 RMSE stdev = 0.0\n",
      "n = 50 Negll mean = 1.2805222272872925 Negll stdev = 0.0\n",
      "Trial = 0\n",
      "n = 100 RMSE mean = 13.904642105102539 RMSE stdev = 0.0\n",
      "n = 100 Negll mean = 1.2412253618240356 Negll stdev = 0.0\n",
      "Trial = 0\n",
      "n = 200 RMSE mean = 11.470596313476562 RMSE stdev = 0.0\n",
      "n = 200 Negll mean = 1.1818536520004272 Negll stdev = 0.0\n",
      "Trial = 0\n",
      "n = 300 RMSE mean = 10.559060096740723 RMSE stdev = 0.0\n",
      "n = 300 Negll mean = 1.1429269313812256 Negll stdev = 0.0\n",
      "Trial = 0\n",
      "n = 400 RMSE mean = 9.637389183044434 RMSE stdev = 0.0\n",
      "n = 400 Negll mean = 1.1389250755310059 Negll stdev = 0.0\n",
      "Trial = 0\n",
      "n = 500 RMSE mean = 8.991506576538086 RMSE stdev = 0.0\n",
      "n = 500 Negll mean = 1.1101248264312744 Negll stdev = 0.0\n",
      "Time taken = 0.0027776343954934012 hours\n"
     ]
    }
   ],
   "source": [
    "start_time = time.time()\n",
    "for (j,dataset) in enumerate(datasets):\n",
    "    filepath = datapath+dataset+'/'\n",
    "    X_all = np.load(filepath+'X.npy').astype('float32')\n",
    "    y_all = np.load(filepath+'y.npy').astype('float32')\n",
    "    y_all = np.reshape(y_all,(-1,1))\n",
    "    X_test, y_test, X_train, y_train = data_splitter(X_all, y_all, num_test) #Splitting into training and test data\n",
    "    print (dataset)\n",
    "    for (i,num_lab) in enumerate(num_lab_list):\n",
    "        rmse_vect = np.zeros(num_trials)\n",
    "        negll_vect = np.zeros(num_trials)\n",
    "        for trial in range(num_trials):\n",
    "            print ('Trial = '+str(trial))\n",
    "            X_lab, y_lab, X_unlab, y_unlab = data_splitter(X_train, y_train, num_lab) #Splitting into labeled and unlabeled data\n",
    "            ARD_model = ARD(hp_dict)\n",
    "            if ss_flag:\n",
    "                X_unlab = X_unlab[:min(X_unlab.shape[0],10000)]\n",
    "                y_unlab = y_unlab[:min(X_unlab.shape[0],10000)]\n",
    "                ARD_model.fit(X_lab,y_lab,X_unlab)\n",
    "            else:\n",
    "                ARD_model.fit(X_lab,y_lab)\n",
    "            test_mean, test_Kmat = ARD_model.predict(X_test)\n",
    "            rmse_vect[trial] = np.sqrt(np.mean(np.square(y_test - test_mean)))\n",
    "            y_test_rs = (y_test - test_mean)/ARD_model.norm_params[1]\n",
    "            test_var = np.diag(test_Kmat)\n",
    "            negll_vect[trial] = get_covg(y_test_rs,test_var)\n",
    "        rmse_mean[i][j] = np.mean(rmse_vect)\n",
    "        rmse_std[i][j] = np.std(rmse_vect)\n",
    "        negll_mean[i][j] = np.mean(negll_vect)\n",
    "        negll_std[i][j] = np.std(negll_vect)\n",
    "        print ('n = '+str(num_lab)+' RMSE mean = '+str(rmse_mean[i][j])+' RMSE stdev = '+str(rmse_std[i][j]))\n",
    "        print ('n = '+str(num_lab)+' Negll mean = '+str(negll_mean[i][j])+' Negll stdev = '+str(negll_std[i][j]))\n",
    "stop_time = time.time()\n",
    "\n",
    "time_hrs = (stop_time - start_time)/3600\n",
    "print ('Time taken = '+str(time_hrs)+' hours')"
   ]
  },
  {
   "cell_type": "code",
   "execution_count": 8,
   "metadata": {},
   "outputs": [
    {
     "name": "stdout",
     "output_type": "stream",
     "text": [
      "Results saved\n"
     ]
    }
   ],
   "source": [
    "respath = 'Results' #Path to folder for saving results (change as necessary)\n",
    "if ss_flag:\n",
    "    respath += '_SS'\n",
    "\n",
    "mean_filename = respath+'/RMSE_mean_ARD.npy'\n",
    "std_filename = respath+'/RMSE_std_ARD.npy'\n",
    "np.save(mean_filename,rmse_mean)\n",
    "np.save(std_filename,rmse_std)\n",
    "\n",
    "mean_filename = respath+'/Negll_mean_ARD.npy'\n",
    "std_filename = respath+'/Negll_std_ARD.npy'\n",
    "np.save(mean_filename,negll_mean)\n",
    "np.save(std_filename,negll_std)\n",
    "       \n",
    "print ('Results saved')"
   ]
  },
  {
   "cell_type": "code",
   "execution_count": null,
   "metadata": {},
   "outputs": [],
   "source": []
  }
 ],
 "metadata": {
  "kernelspec": {
   "display_name": "Python 3",
   "language": "python",
   "name": "python3"
  },
  "language_info": {
   "codemirror_mode": {
    "name": "ipython",
    "version": 3
   },
   "file_extension": ".py",
   "mimetype": "text/x-python",
   "name": "python",
   "nbconvert_exporter": "python",
   "pygments_lexer": "ipython3",
   "version": "3.6.9"
  }
 },
 "nbformat": 4,
 "nbformat_minor": 4
}
