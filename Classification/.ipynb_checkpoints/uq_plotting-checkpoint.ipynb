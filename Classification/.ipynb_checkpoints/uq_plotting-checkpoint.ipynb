{
 "cells": [
  {
   "cell_type": "code",
   "execution_count": 1,
   "metadata": {},
   "outputs": [],
   "source": [
    "import numpy as np\n",
    "import matplotlib.pyplot as plt\n",
    "plt.style.use('publication')\n",
    "import tensorflow as tf\n",
    "import tensorflow.contrib.eager as tfe\n",
    "tf.enable_eager_execution()"
   ]
  },
  {
   "cell_type": "code",
   "execution_count": 2,
   "metadata": {},
   "outputs": [],
   "source": [
    "num_classes = 10\n",
    "mnist = tf.keras.datasets.mnist\n",
    "(X_train, y_train), (X_test, y_test) = mnist.load_data()\n",
    "y_train = tf.one_hot(y_train,depth=num_classes,axis=-1).numpy()\n",
    "y_test = tf.one_hot(y_test,depth=num_classes,axis=-1).numpy()\n",
    "X_train = X_train.reshape((X_train.shape[0],-1))/255.0\n",
    "X_train = X_train.astype('float32')\n",
    "X_test = X_test.reshape((X_test.shape[0],-1))/255.0\n",
    "X_test = X_test.astype('float32')"
   ]
  },
  {
   "cell_type": "code",
   "execution_count": 3,
   "metadata": {},
   "outputs": [],
   "source": [
    "test_probs = np.load('mnist_test_probs.npy')\n",
    "test_entropy_mat = 0 - test_probs*np.log(test_probs)\n",
    "test_entropy = np.sum(test_entropy_mat,axis=1)"
   ]
  },
  {
   "cell_type": "code",
   "execution_count": 5,
   "metadata": {},
   "outputs": [],
   "source": [
    "test_pred = np.argmax(test_probs,axis=1)\n",
    "test_labels = np.argmax(y_test,axis=1)\n",
    "test_err = np.ones(test_entropy.shape)\n",
    "test_err[test_pred==test_labels] = 0"
   ]
  },
  {
   "cell_type": "code",
   "execution_count": 6,
   "metadata": {},
   "outputs": [
    {
     "name": "stdout",
     "output_type": "stream",
     "text": [
      "Figure Saved\n"
     ]
    },
    {
     "data": {
      "image/png": "[encoded data removed]",
      "text/plain": [
       "<Figure size 432x288 with 1 Axes>"
      ]
     },
     "metadata": {},
     "output_type": "display_data"
    }
   ],
   "source": [
    "entropy_ord = np.argsort(test_entropy)\n",
    "test_entropy_ord = test_entropy[entropy_ord]\n",
    "test_entropy_avg = np.sum(np.reshape(test_entropy_ord,(-1,100)),axis=1)/100\n",
    "test_err_ord = test_err[entropy_ord]\n",
    "test_err_avg = np.sum(np.reshape(test_err_ord,(-1,100)),axis=1)/100\n",
    "plt.scatter(test_entropy_avg,test_err_avg,color='green')\n",
    "plt.ylabel('Error Probability')\n",
    "plt.xlabel('Prediction Entropy')\n",
    "# plt.show()\n",
    "# plt.xlim(np.amin(test_var_avg)-0.001,np.amax(test_var_avg)+0.001)\n",
    "# plt.ylim(np.amin(test_err_avg)-0.01,np.amax(test_err_avg)+0.01)\n",
    "plt.tight_layout()\n",
    "filename = 'MNIST_uq.pdf'\n",
    "plt.savefig(filename)\n",
    "print ('Figure Saved')"
   ]
  },
  {
   "cell_type": "code",
   "execution_count": null,
   "metadata": {},
   "outputs": [],
   "source": []
  }
 ],
 "metadata": {
  "kernelspec": {
   "display_name": "Environment (conda_anaconda3)",
   "language": "python",
   "name": "conda_anaconda3"
  },
  "language_info": {
   "codemirror_mode": {
    "name": "ipython",
    "version": 3
   },
   "file_extension": ".py",
   "mimetype": "text/x-python",
   "name": "python",
   "nbconvert_exporter": "python",
   "pygments_lexer": "ipython3",
   "version": "3.6.5"
  }
 },
 "nbformat": 4,
 "nbformat_minor": 2
}
